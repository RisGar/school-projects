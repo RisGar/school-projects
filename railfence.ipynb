{
 "cells": [
  {
   "cell_type": "markdown",
   "metadata": {},
   "source": [
    "## „Gartenzaun“-Transposition\n",
    "\n",
    "Beim Gartenzaun-Transpositionsverfahren wird der Klartext auf verschiedene Zeilen aufgeteilt und schließlich zusammengefügt. Hierbei werden im \"Zickzack\"-Muster die Zeichen des Klartextes in die Zeilen verteilt. Aus dem Klartext \"Hello, World!\" wird so:\n",
    "\n",
    "```\n",
    "H———o———o———!\n",
    "—e—l—,—W—r—d—\n",
    "——l——— ———l——\n",
    "\n",
    "Hoo!el,Wrdl l\n",
    "```\n",
    "\n",
    "Hierbei kann auch eine Verschiebung also ein \"Offset\" gesetzt werden. Hier zum Beispiel der Offset 2:\n",
    "\n",
    "```\n",
    " ———l——— ———l——\n",
    "— —e—l—,—W—r—d—\n",
    "——H———o———o———!\n",
    "\n",
    "l lel,WrdHoo!\n",
    "```"
   ]
  },
  {
   "cell_type": "code",
   "execution_count": 46,
   "metadata": {},
   "outputs": [
    {
     "name": "stdout",
     "output_type": "stream",
     "text": [
      "l lel,WrdHoo!\n",
      "Hello, World!\n",
      "heeeemrTx!Gi t\n",
      "Geheimer Text!\n"
     ]
    }
   ],
   "source": [
    "### Verschlüsseln ###\n",
    "\n",
    "def encrypt(text: str, rows: int = 3, offset: int = 0) -> str:\n",
    "  strings: list[str] = [''] * rows\n",
    "\n",
    "  ### Einordnen des Klartextes in die Reihen des \"Gartenzauns\"\n",
    "  for i, e in enumerate(text, start = 0):\n",
    "    pos: int = (i + offset) % (rows * 2 - 2)\n",
    "    if (pos >= rows): pos = rows * 2 - 2 - pos\n",
    "    strings[pos] += e\n",
    "\n",
    "  return ''.join(strings)\n",
    "\n",
    "### Entschlüsseln ###\n",
    "\n",
    "def decrypt(text: str, rows: int = 3, offset: int = 0) -> str:\n",
    "\n",
    "  ### Längen der Reihen bestimmen\n",
    "  lStrings: list[str] = [''] * rows\n",
    "  for i, e in enumerate(text, start = 0):\n",
    "    pos: int = (i + offset) % (rows * 2 - 2)\n",
    "    if (pos >= rows): pos = rows * 2 - 2 - pos\n",
    "    lStrings[pos] += e\n",
    "\n",
    "  ### Seperieren des Geheimstextes in die in der Verschlüsselung verwendeten Reihen\n",
    "  strings: list[str] = [''] * rows\n",
    "  s = list(text)\n",
    "  for i, e in enumerate(lStrings, start = 0):\n",
    "    for j in range(len(e)):\n",
    "      strings[i] += s[0]\n",
    "      s.pop(0)\n",
    "\n",
    "  ### Umgekehrtes Einorden der Verschlüsselung / Umsortieren der Reihen zum Klartext\n",
    "  res = ''\n",
    "  for i in range(len(text)):\n",
    "    pos: int = (i + offset) % (rows * 2 - 2)\n",
    "    if (pos >= rows): pos = rows * 2 - 2 - pos\n",
    "    res += strings[pos][0]\n",
    "    strings[pos] = strings[pos][1:]\n",
    "\n",
    "  return res\n",
    "\n",
    "\n",
    "if __name__ == \"__main__\":\n",
    "  print(encrypt('Hello, World!', 3, 2)) # Klartext, Reihen, Verschiebung\n",
    "  print(decrypt('l lel,WrdHoo!', 3, 2)) # Geheimtext, Reihen, Verschiebung\n",
    "\n",
    "  ### Eingabe\n",
    "  klartext = \"Geheimer Text!\"\n",
    "  reihen = 3\n",
    "  verschiebung = 2\n",
    "\n",
    "  geheimtext = encrypt(klartext, reihen, verschiebung)\n",
    "  print(geheimtext)\n",
    "  print(decrypt(geheimtext, reihen, verschiebung))\n"
   ]
  }
 ],
 "metadata": {
  "interpreter": {
   "hash": "f0ccdb2a68fe0b73430b1987fc7bd1546b68cd58de8a1ebeeb7e8d5277ece13d"
  },
  "kernelspec": {
   "display_name": "Python 3.9.9 64-bit",
   "language": "python",
   "name": "python3"
  },
  "language_info": {
   "codemirror_mode": {
    "name": "ipython",
    "version": 3
   },
   "file_extension": ".py",
   "mimetype": "text/x-python",
   "name": "python",
   "nbconvert_exporter": "python",
   "pygments_lexer": "ipython3",
   "version": "3.9.9"
  },
  "orig_nbformat": 4
 },
 "nbformat": 4,
 "nbformat_minor": 2
}
